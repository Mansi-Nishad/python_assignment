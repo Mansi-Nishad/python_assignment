{
 "cells": [
  {
   "cell_type": "code",
   "execution_count": 1,
   "id": "9a5653b9-6f85-410b-8e29-d5c6ab19b4dd",
   "metadata": {},
   "outputs": [
    {
     "name": "stdout",
     "output_type": "stream",
     "text": [
      "Hello Mansi\n"
     ]
    }
   ],
   "source": [
    "# 1-How do you concatenate two strings in python?\n",
    "str1 = \"Hello\"\n",
    "str2 = \"Mansi\"\n",
    "print(str1 + \" \" + str2 )  \n"
   ]
  },
  {
   "cell_type": "code",
   "execution_count": 2,
   "id": "8deba1c6-56ad-466f-9d04-3d9fac857b22",
   "metadata": {},
   "outputs": [
    {
     "name": "stdout",
     "output_type": "stream",
     "text": [
      "Hello Python\n",
      "Hello Mansi Python\n"
     ]
    }
   ],
   "source": [
    "# 2-what is the diffrence betwwen the + operator and the join() method  for concatenating string?\n",
    "# Using + operator\n",
    "s1 = \"Hello\"\n",
    "s2 = \"Python\"\n",
    "print(s1 + \" \" + s2)   \n",
    "\n",
    "# Using join()\n",
    "words = [\"Hello\", \"Mansi\", \"Python\"]\n",
    "print(\" \".join(words)) \n"
   ]
  },
  {
   "cell_type": "code",
   "execution_count": 3,
   "id": "8c094f53-2801-4299-a7eb-c89b1590cbb5",
   "metadata": {},
   "outputs": [
    {
     "name": "stdout",
     "output_type": "stream",
     "text": [
      "P\n",
      "h\n"
     ]
    }
   ],
   "source": [
    "# 3-How do you access individual character in a string?\n",
    "text = \"Python\"\n",
    "print(text[0])   \n",
    "print(text[3])   \n"
   ]
  },
  {
   "cell_type": "code",
   "execution_count": 4,
   "id": "db82ab65-ed6b-4209-8639-14354ecd16c3",
   "metadata": {},
   "outputs": [
    {
     "name": "stdout",
     "output_type": "stream",
     "text": [
      "6\n"
     ]
    }
   ],
   "source": [
    "# 4-What method is used to finf the length of string in python?\n",
    "text = \"Python\"\n",
    "print(len(text)) "
   ]
  },
  {
   "cell_type": "code",
   "execution_count": 5,
   "id": "f3251fe9-54f2-4be9-b851-2f7de6cd00b7",
   "metadata": {},
   "outputs": [
    {
     "name": "stdout",
     "output_type": "stream",
     "text": [
      "PYTHON\n"
     ]
    }
   ],
   "source": [
    "# 5-How can you convert a string to uppercase in python?\n",
    "text = \"python\"\n",
    "print(text.upper())   \n"
   ]
  },
  {
   "cell_type": "code",
   "execution_count": 24,
   "id": "aaf2d3dc-0b62-4820-9113-ae8fd1d85545",
   "metadata": {},
   "outputs": [
    {
     "name": "stdout",
     "output_type": "stream",
     "text": [
      "python\n"
     ]
    }
   ],
   "source": [
    "#6-How can you convert a string to lowercase in python?\n",
    "text = \"PYTHON\"\n",
    "print(text.lower())   \n"
   ]
  },
  {
   "cell_type": "code",
   "execution_count": 6,
   "id": "5dc49f0e-ee51-4623-89e3-56bda810b6c4",
   "metadata": {},
   "outputs": [
    {
     "name": "stdout",
     "output_type": "stream",
     "text": [
      "I love Python\n"
     ]
    }
   ],
   "source": [
    "# 7-what method is used to replace substrings within a string ?\n",
    "text = \"I love Java\"\n",
    "new_text = text.replace(\"Java\", \"Python\")\n",
    "print(new_text)   "
   ]
  },
  {
   "cell_type": "code",
   "execution_count": 23,
   "id": "aeeac1cf-c066-40ad-9c6f-806879bc7ef8",
   "metadata": {},
   "outputs": [
    {
     "name": "stdout",
     "output_type": "stream",
     "text": [
      "['Hello', 'World', 'Python']\n"
     ]
    }
   ],
   "source": [
    "# 8-  How can you split a string into a list of substrings based on a delimiter ?\n",
    "A = \"Hello World Python\"\n",
    "result = A.split()\n",
    "print(result)  \n",
    "\n"
   ]
  },
  {
   "cell_type": "code",
   "execution_count": 22,
   "id": "80862b31-bd69-41c0-8280-fd365d57f98e",
   "metadata": {},
   "outputs": [
    {
     "name": "stdout",
     "output_type": "stream",
     "text": [
      "True\n"
     ]
    }
   ],
   "source": [
    "# 9-How do you check if a string starts with a particular substring ?\n",
    "A = \"Python Programming\"\n",
    "print(A.startswith(\"Python\"))\n"
   ]
  },
  {
   "cell_type": "code",
   "execution_count": 21,
   "id": "6759f934-1cd4-46fd-a6ac-acb46fc56b5b",
   "metadata": {},
   "outputs": [
    {
     "name": "stdout",
     "output_type": "stream",
     "text": [
      "False\n"
     ]
    }
   ],
   "source": [
    "# 10- How do you check if a string ends with a particular substring ?  \n",
    "A = \"Python Programming\"\n",
    "print(A.endswith(\"Python\"))\n",
    "\n"
   ]
  },
  {
   "cell_type": "code",
   "execution_count": 20,
   "id": "fddcba46-05b2-43bc-8b93-902e3d1acc84",
   "metadata": {},
   "outputs": [
    {
     "name": "stdout",
     "output_type": "stream",
     "text": [
      "Python\n"
     ]
    }
   ],
   "source": [
    "# 11-How can you remove leading and trailling whitespace from a string?\n",
    "text = \"   Python   \"\n",
    "A = text.strip()\n",
    "print(A)\n",
    "\n"
   ]
  },
  {
   "cell_type": "code",
   "execution_count": 19,
   "id": "fce61630-5a76-4593-8a5a-ec81f10758cb",
   "metadata": {},
   "outputs": [
    {
     "name": "stdout",
     "output_type": "stream",
     "text": [
      "6\n"
     ]
    }
   ],
   "source": [
    "# 12- What method is used to find the index of the first occurance of a substring with in a string ?\n",
    "text = \"Hello Python World\"\n",
    "index = text.find(\"Python\")\n",
    "print(index)  "
   ]
  },
  {
   "cell_type": "code",
   "execution_count": 18,
   "id": "5d94dcf9-fcaa-4e13-90a2-fb9e75ddd8d7",
   "metadata": {},
   "outputs": [
    {
     "name": "stdout",
     "output_type": "stream",
     "text": [
      "3\n"
     ]
    }
   ],
   "source": [
    "# 13-How can you count the number of occurances of a substring with in a string ?\n",
    "text = \"banana\"\n",
    "print(text.count(\"a\"))  \n"
   ]
  },
  {
   "cell_type": "code",
   "execution_count": 7,
   "id": "cca823b6-dcb7-410d-826a-b45aa49acd20",
   "metadata": {},
   "outputs": [
    {
     "name": "stdout",
     "output_type": "stream",
     "text": [
      "True\n"
     ]
    }
   ],
   "source": [
    "# 14- How can you check if the string contains only alphabatic characters ?\n",
    "text1 = \"Python\"\n",
    "print(text1.isalpha()) \n"
   ]
  },
  {
   "cell_type": "code",
   "execution_count": 17,
   "id": "a0389e96-cab4-4b58-9664-82e80fc81645",
   "metadata": {},
   "outputs": [
    {
     "name": "stdout",
     "output_type": "stream",
     "text": [
      "True\n"
     ]
    }
   ],
   "source": [
    "# 15-How can you check if the string contains only numeric characters ?\n",
    "text1 = \"1234\"\n",
    "print(text1.isnumeric()) \n",
    "\n"
   ]
  },
  {
   "cell_type": "code",
   "execution_count": 15,
   "id": "b25b6115-493a-40cd-bd15-f568678c75ea",
   "metadata": {},
   "outputs": [
    {
     "name": "stdout",
     "output_type": "stream",
     "text": [
      "Palindrome\n"
     ]
    }
   ],
   "source": [
    "# 16- How can you check if a string is a palindrome ?\n",
    "text = \"madam\"\n",
    "if text == text[::-1]:\n",
    "    print(\"Palindrome\")\n",
    "else:\n",
    "    print(\"Not Palindrome\")\n",
    "\n"
   ]
  },
  {
   "cell_type": "code",
   "execution_count": 16,
   "id": "5a9984b5-0bac-4d29-832c-0dc8974d18f5",
   "metadata": {},
   "outputs": [
    {
     "name": "stdout",
     "output_type": "stream",
     "text": [
      "nohtyP\n"
     ]
    }
   ],
   "source": [
    "# 17-How can you reverse a string in python ?\n",
    "A = \"Python\"\n",
    "reverse = A[::-1]\n",
    "print(reverse)  \n"
   ]
  },
  {
   "cell_type": "code",
   "execution_count": 11,
   "id": "3caf29f8-b190-49a5-96b1-0c7c0f3388bf",
   "metadata": {},
   "outputs": [
    {
     "name": "stdout",
     "output_type": "stream",
     "text": [
      "My name is Mansi and I am 20 years old.\n"
     ]
    }
   ],
   "source": [
    "# 18- How do you format a string with placeholders for variable value ?\n",
    "name = \"Mansi\"\n",
    "age = 20\n",
    "print(f\"My name is {name} and I am {age} years old.\")\n",
    "\n"
   ]
  },
  {
   "cell_type": "code",
   "execution_count": 12,
   "id": "011f63be-d532-4a9a-b435-379ae8c28d13",
   "metadata": {},
   "outputs": [
    {
     "name": "stdout",
     "output_type": "stream",
     "text": [
      "Python\n",
      "Programming\n",
      "Python\n"
     ]
    }
   ],
   "source": [
    "# 19-How do you access a substring of a string using slicing ?\n",
    "text = \"PythonProgramming\"\n",
    "print(text[0:6])    \n",
    "print(text[6:])    \n",
    "print(text[:6]) \n"
   ]
  },
  {
   "cell_type": "code",
   "execution_count": 14,
   "id": "36cef94a-c2f6-4ee1-a825-ed6702e37e30",
   "metadata": {},
   "outputs": [
    {
     "name": "stdout",
     "output_type": "stream",
     "text": [
      "hello\n"
     ]
    }
   ],
   "source": [
    "# 20-How can you remove soecific characters from a string in python ?\n",
    "text = \"h@e#l!lo\"\n",
    "remove_chars = \"@#!\"\n",
    "print(text.translate(str.maketrans(\"\", \"\", remove_chars)))  \n"
   ]
  },
  {
   "cell_type": "code",
   "execution_count": 25,
   "id": "e51de946-0f32-4dd9-8dca-4194ce594812",
   "metadata": {},
   "outputs": [
    {
     "name": "stdout",
     "output_type": "stream",
     "text": [
      "ths s python lss\n"
     ]
    }
   ],
   "source": [
    "# question-\n",
    "text = \"this is python class\"\n",
    "remove_chars = \"aicde\"\n",
    "trans_table = str .maketrans('','',remove_chars)\n",
    "result = text.translate(trans_table)\n",
    "print(result)"
   ]
  },
  {
   "cell_type": "code",
   "execution_count": 27,
   "id": "de0c014d-dc0c-436f-8e46-76ae2ed3a76f",
   "metadata": {},
   "outputs": [
    {
     "name": "stdout",
     "output_type": "stream",
     "text": [
      "thss ss python dlbss\n"
     ]
    }
   ],
   "source": [
    "# question \n",
    "text = \"this is python class\"\n",
    "trans_table = str.maketrans({\n",
    "    'a': 'b',\n",
    "    'i': 's',\n",
    "    'c': 'd',\n",
    "    'd': 'e',\n",
    "    'e': 'r'\n",
    "})\n",
    "result = text.translate(trans_table)\n",
    "print(result)\n",
    "    "
   ]
  }
 ],
 "metadata": {
  "kernelspec": {
   "display_name": "Python 3 (ipykernel)",
   "language": "python",
   "name": "python3"
  },
  "language_info": {
   "codemirror_mode": {
    "name": "ipython",
    "version": 3
   },
   "file_extension": ".py",
   "mimetype": "text/x-python",
   "name": "python",
   "nbconvert_exporter": "python",
   "pygments_lexer": "ipython3",
   "version": "3.13.5"
  }
 },
 "nbformat": 4,
 "nbformat_minor": 5
}
