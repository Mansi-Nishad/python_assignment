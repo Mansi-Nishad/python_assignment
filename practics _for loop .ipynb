{
 "cells": [
  {
   "cell_type": "code",
   "execution_count": 1,
   "id": "8b94ca42-64f0-42ab-8988-1b722c155703",
   "metadata": {},
   "outputs": [
    {
     "name": "stdout",
     "output_type": "stream",
     "text": [
      "1\n",
      "2\n",
      "3\n",
      "4\n",
      "5\n",
      "6\n",
      "7\n",
      "8\n",
      "9\n",
      "10\n"
     ]
    }
   ],
   "source": [
    "# 1-  Write a Python program to print all the numbers from 1 to 10 using a for loop.\n",
    "\n",
    "for i in range(1, 11):\n",
    "    print(i)\n"
   ]
  },
  {
   "cell_type": "code",
   "execution_count": 2,
   "id": "be2be4d7-9135-4b95-9c55-7f180e2c3fb0",
   "metadata": {},
   "outputs": [
    {
     "name": "stdout",
     "output_type": "stream",
     "text": [
      "5050\n"
     ]
    }
   ],
   "source": [
    "# :2- Write a Python program to find the sum of all numbers from 1 to 100 using a for loop\n",
    "\n",
    "total = 0\n",
    "for i in range(1, 101):\n",
    "    total = total + i\n",
    "print(total)\n"
   ]
  },
  {
   "cell_type": "code",
   "execution_count": 4,
   "id": "5c09e08e-5d82-4181-9983-4c6112de4169",
   "metadata": {},
   "outputs": [
    {
     "name": "stdin",
     "output_type": "stream",
     "text": [
      "Enter a number:  2\n"
     ]
    },
    {
     "name": "stdout",
     "output_type": "stream",
     "text": [
      "2 * 1 = 2\n",
      "2 * 2 = 4\n",
      "2 * 3 = 6\n",
      "2 * 4 = 8\n",
      "2 * 5 = 10\n",
      "2 * 6 = 12\n",
      "2 * 7 = 14\n",
      "2 * 8 = 16\n",
      "2 * 9 = 18\n",
      "2 * 10 = 20\n"
     ]
    }
   ],
   "source": [
    "# 3-Write a Python program to print the multiplication table of a given number using a for loop\n",
    "\n",
    "N = int(input(\"Enter a number: \"))\n",
    "for i in range(1, 11):\n",
    "    print(N, \"*\", i, \"=\", N * i)\n"
   ]
  },
  {
   "cell_type": "code",
   "execution_count": 11,
   "id": "36d24711-3ce4-487c-b170-ff2238590bf9",
   "metadata": {},
   "outputs": [
    {
     "name": "stdout",
     "output_type": "stream",
     "text": [
      "Even: 5\n",
      "Odd: 4\n"
     ]
    }
   ],
   "source": [
    "# 4: Write a Python program to count the number of even and odd numbers from a series of numbers using a for loop\n",
    "\n",
    "n = [1,2,3,4,5,6,7,8,9,10]\n",
    "even = 0\n",
    "odd = 0\n",
    "for i in n:\n",
    "    if i % 2 == 0:\n",
    "        even = even + 1\n",
    "    else:\n",
    "        odd = odd + 1\n",
    "print(\"Even:\", even)\n",
    "print(\"Odd:\", odd)\n"
   ]
  },
  {
   "cell_type": "code",
   "execution_count": 5,
   "id": "588fd41e-c3aa-4da6-925f-717902818e8c",
   "metadata": {},
   "outputs": [
    {
     "name": "stdin",
     "output_type": "stream",
     "text": [
      "Enter a number:  5\n"
     ]
    },
    {
     "name": "stdout",
     "output_type": "stream",
     "text": [
      "120\n"
     ]
    }
   ],
   "source": [
    "# 5: Write a Python program to find the factorial of a number using a for loop\n",
    "\n",
    "\n",
    "n = int(input(\"Enter a number: \"))\n",
    "fact = 1\n",
    "for i in range(1, n+1):\n",
    "    fact = fact * i\n",
    "print(fact)\n"
   ]
  },
  {
   "cell_type": "code",
   "execution_count": 6,
   "id": "85cf8436-6c13-4137-bc9c-12b746ef3436",
   "metadata": {},
   "outputs": [
    {
     "name": "stdin",
     "output_type": "stream",
     "text": [
      "Enter terms:  5\n"
     ]
    },
    {
     "name": "stdout",
     "output_type": "stream",
     "text": [
      "0\n",
      "1\n",
      "1\n",
      "2\n",
      "3\n"
     ]
    }
   ],
   "source": [
    "# 6: Write a Python program to print the Fibonacci sequence up to a specified number using a for loop.\n",
    "\n",
    "n = int(input(\"Enter terms: \"))\n",
    "a = 0\n",
    "b = 1\n",
    "for i in range(n):\n",
    "    print(a)\n",
    "    c = a + b\n",
    "    a = b\n",
    "    b = c\n"
   ]
  },
  {
   "cell_type": "code",
   "execution_count": 11,
   "id": "dde98a19-4cad-4a7f-8774-1988f9cc31bc",
   "metadata": {},
   "outputs": [
    {
     "name": "stdin",
     "output_type": "stream",
     "text": [
      "Enter a number:  11\n"
     ]
    },
    {
     "name": "stdout",
     "output_type": "stream",
     "text": [
      "Prime\n"
     ]
    }
   ],
   "source": [
    "# 7: Write a Python program to check if a given number is prime or not using a for loop.\n",
    "\n",
    "n = int(input(\"Enter a number: \"))\n",
    "prime = True\n",
    "\n",
    "for i in range(2, n):\n",
    "    if n % i == 0:\n",
    "        prime = False\n",
    "        break\n",
    "\n",
    "if prime and n > 1:\n",
    "    print(\"Prime\")\n",
    "else:\n",
    "    print(\"Not Prime\")\n"
   ]
  },
  {
   "cell_type": "code",
   "execution_count": 15,
   "id": "bc0ee06a-5b48-4bb8-bbdc-08c5ca3caedf",
   "metadata": {},
   "outputs": [
    {
     "name": "stdout",
     "output_type": "stream",
     "text": [
      "99\n"
     ]
    }
   ],
   "source": [
    "# 8: Write a Python program to find the largest element in a list using a for loop.\n",
    "\n",
    "num = [10, 25, 35, 7, 99, 18]\n",
    "largest = n[0]\n",
    "for i in num:\n",
    "    if i > largest:\n",
    "        largest = i\n",
    "print(largest)\n"
   ]
  },
  {
   "cell_type": "code",
   "execution_count": 18,
   "id": "7bb7cbe4-c223-437e-b478-3482b35ffe8e",
   "metadata": {},
   "outputs": [
    {
     "name": "stdout",
     "output_type": "stream",
     "text": [
      "nohtyp\n"
     ]
    }
   ],
   "source": [
    "# 9: Write a Python program to reverse a given string using a for loop\n",
    "\n",
    "text = \"python\"\n",
    "rev = \"\"\n",
    "for ch in text:\n",
    "    rev = ch + rev\n",
    "print(rev)\n"
   ]
  },
  {
   "cell_type": "code",
   "execution_count": null,
   "id": "aea0571e-d222-4230-bc77-5366d1f20e94",
   "metadata": {},
   "outputs": [],
   "source": [
    "# 10:  Write a Python program to find the common elements between two lists using a for loop. List1 = [1,2,3] List2 = [4,5,1] # common element is 1"
   ]
  }
 ],
 "metadata": {
  "kernelspec": {
   "display_name": "Python 3 (ipykernel)",
   "language": "python",
   "name": "python3"
  },
  "language_info": {
   "codemirror_mode": {
    "name": "ipython",
    "version": 3
   },
   "file_extension": ".py",
   "mimetype": "text/x-python",
   "name": "python",
   "nbconvert_exporter": "python",
   "pygments_lexer": "ipython3",
   "version": "3.13.5"
  }
 },
 "nbformat": 4,
 "nbformat_minor": 5
}
