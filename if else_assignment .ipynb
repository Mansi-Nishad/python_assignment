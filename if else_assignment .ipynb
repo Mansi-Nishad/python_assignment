{
 "cells": [
  {
   "cell_type": "code",
   "execution_count": 4,
   "id": "cee889d3-48fc-4681-9d9b-fb6d1adea331",
   "metadata": {},
   "outputs": [
    {
     "name": "stdin",
     "output_type": "stream",
     "text": [
      "Enter number of units:  200\n"
     ]
    },
    {
     "name": "stdout",
     "output_type": "stream",
     "text": [
      "Total Electricity Bill = Rs 500\n"
     ]
    }
   ],
   "source": [
    "\"\"\"Q1. Write a program to calculate the electricity bill\n",
    "using only if statement? (accept number of unit from user)\n",
    "according to the following criteria:\n",
    "\n",
    "Unit Price\n",
    "First 100 units no charge\n",
    "Next 100 units Rs 5 per unit\n",
    "After 200 units Rs 10 per unit\n",
    "(For example, if input unit is 350 than total bill amount is Rs2000). Lets explain...\n",
    "For first 100 no charges\n",
    "Now you have 250 unit remaining\n",
    "100-200 you need to pay – 100*5 = 500\n",
    "Now 200-100 you need to pay 150*10 = 1500\n",
    "Total = 500+1500 = 2000\"\"\"\n",
    "\n",
    "\n",
    "\n",
    "units = int(input(\"Enter number of units: \"))\n",
    "bill = 0\n",
    "\n",
    "# First 100 units - No charge\n",
    "if units > 100:\n",
    "    # For units between 101 to 200\n",
    "    bill = (units - 100) * 5\n",
    "else:\n",
    "    bill = 0\n",
    "\n",
    "if units > 200:\n",
    "    # Adjusting: remove extra calculation from above\n",
    "    bill = (100 * 5) + (units - 200) * 10\n",
    "\n",
    "print(\"Total Electricity Bill = Rs\", bill)\n"
   ]
  },
  {
   "cell_type": "code",
   "execution_count": 5,
   "id": "b1972866-11ee-4878-b5ee-d7205c9b8f64",
   "metadata": {},
   "outputs": [
    {
     "name": "stdin",
     "output_type": "stream",
     "text": [
      "Enter your percentage:  82\n"
     ]
    },
    {
     "name": "stdout",
     "output_type": "stream",
     "text": [
      "Your Grade is: B\n"
     ]
    }
   ],
   "source": [
    "\"\"\"Q2. Write a program to accept percentage from the user and display\n",
    "the grade according to the following criteria:\n",
    "\n",
    "Marks Grade\n",
    "> 90 A\n",
    "> 80 and <= 90 B\n",
    ">= 60 and <= 80 C\n",
    "below 60 D\"\"\"\n",
    "\n",
    "# Program to display grade based on percentage\n",
    "\n",
    "marks = int(input(\"Enter your percentage: \"))\n",
    "\n",
    "if marks > 90:\n",
    "    grade = \"A\"\n",
    "elif marks > 80 and marks <= 90:\n",
    "    grade = \"B\"\n",
    "elif marks >= 60 and marks <= 80:\n",
    "    grade = \"C\"\n",
    "else:\n",
    "    grade = \"D\"\n",
    "\n",
    "print(\"Your Grade is:\", grade)\n"
   ]
  },
  {
   "cell_type": "code",
   "execution_count": 6,
   "id": "a08e05ee-99c3-4f25-8ce9-eeae38847931",
   "metadata": {},
   "outputs": [
    {
     "name": "stdin",
     "output_type": "stream",
     "text": [
      "Enter age of person 1:  20\n",
      "Enter age of person 2:  30\n",
      "Enter age of person 3:  40\n",
      "Enter age of person 4:  50\n"
     ]
    },
    {
     "name": "stdout",
     "output_type": "stream",
     "text": [
      "The youngest age is: 20\n"
     ]
    }
   ],
   "source": [
    "# Q3. Accept the age of 4 people and display the youngest one?\n",
    "\n",
    "# Program to find the youngest among 4 people\n",
    "\n",
    "age1 = int(input(\"Enter age of person 1: \"))\n",
    "age2 = int(input(\"Enter age of person 2: \"))\n",
    "age3 = int(input(\"Enter age of person 3: \"))\n",
    "age4 = int(input(\"Enter age of person 4: \"))\n",
    "\n",
    "# Assume first person is youngest\n",
    "youngest = age1\n",
    "\n",
    "if age2 < youngest:\n",
    "    youngest = age2\n",
    "\n",
    "if age3 < youngest:\n",
    "    youngest = age3\n",
    "\n",
    "if age4 < youngest:\n",
    "    youngest = age4\n",
    "\n",
    "print(\"The youngest age is:\", youngest)\n"
   ]
  },
  {
   "cell_type": "code",
   "execution_count": 7,
   "id": "11df97da-b9d4-4ac2-942e-314026a371a7",
   "metadata": {},
   "outputs": [
    {
     "name": "stdin",
     "output_type": "stream",
     "text": [
      "Enter your salary:  5000\n",
      "Enter your years of service:  12\n"
     ]
    },
    {
     "name": "stdout",
     "output_type": "stream",
     "text": [
      "Your Bonus Amount is: Rs 500.0\n"
     ]
    }
   ],
   "source": [
    "\"\"\"Q4. A company decided to give bonus to employee\n",
    "according to following criteria:\n",
    "\n",
    "Time period of Service Bonus\n",
    "\n",
    "More than 10 years 10%\n",
    "\n",
    ">=6 and <=10 8%\n",
    "\n",
    "Less than 6 years 5%\n",
    "\n",
    "Ask user for their salary and years of service and print the\n",
    "net bonus amount?\"\"\"\n",
    "\n",
    "# Program to calculate bonus based on years of service\n",
    "\n",
    "salary = float(input(\"Enter your salary: \"))\n",
    "years = int(input(\"Enter your years of service: \"))\n",
    "\n",
    "if years > 10:\n",
    "    bonus = 0.10 * salary\n",
    "elif years >= 6 and years <= 10:\n",
    "    bonus = 0.08 * salary\n",
    "else:\n",
    "    bonus = 0.05 * salary\n",
    "\n",
    "print(\"Your Bonus Amount is: Rs\", bonus)\n"
   ]
  },
  {
   "cell_type": "code",
   "execution_count": 10,
   "id": "fc89b3e5-e0e1-4995-a177-c54b676e4d70",
   "metadata": {},
   "outputs": [
    {
     "name": "stdin",
     "output_type": "stream",
     "text": [
      "Enter first number:  10\n",
      "Enter second number:  20\n",
      "Enter third number:  40\n"
     ]
    },
    {
     "name": "stdout",
     "output_type": "stream",
     "text": [
      "The second largest number is: 20\n"
     ]
    }
   ],
   "source": [
    "# Q5. Accept three numbers from the user and\n",
    "# display the second largest number?\n",
    "\n",
    "# Program to find the second largest among 3 numbers\n",
    "\n",
    "a = int(input(\"Enter first number: \"))\n",
    "b = int(input(\"Enter second number: \"))\n",
    "c = int(input(\"Enter third number: \"))\n",
    "\n",
    "if (a > b and a < c) or (a > c and a < b):\n",
    "    second_largest = a\n",
    "elif (b > a and b < c) or (b > c and b < a):\n",
    "    second_largest = b\n",
    "else:\n",
    "    second_largest = c\n",
    "\n",
    "print(\"The second largest number is:\", second_largest)\n"
   ]
  },
  {
   "cell_type": "code",
   "execution_count": 12,
   "id": "f2b14155-d9eb-4857-8a66-166e52634fd9",
   "metadata": {},
   "outputs": [
    {
     "name": "stdin",
     "output_type": "stream",
     "text": [
      "Enter the Marked Price:  600\n"
     ]
    },
    {
     "name": "stdout",
     "output_type": "stream",
     "text": [
      "Marked Price: Rs 600.0\n",
      "Discount: Rs 60.0\n",
      "Net Amount to Pay: Rs 540.0\n"
     ]
    }
   ],
   "source": [
    "\"\"\"Q6. Accept the marked price from the user and calculate\n",
    "the Net amount as (Marked Price – Discount) to pay\n",
    "according to following criteria:\n",
    "\n",
    "Marked Price Discount\n",
    ">10000 20%\n",
    ">7000 and <=10000 15%\n",
    "<=7000 10%\"\"\"\n",
    "\n",
    "\n",
    "# Program to calculate Net Amount after discount\n",
    "\n",
    "mp = float(input(\"Enter the Marked Price: \"))\n",
    "\n",
    "if mp > 10000:\n",
    "    discount = 0.20 * mp\n",
    "elif mp > 7000 and mp <= 10000:\n",
    "    discount = 0.15 * mp\n",
    "else:\n",
    "    discount = 0.10 * mp\n",
    "\n",
    "net_amount = mp - discount\n",
    "\n",
    "print(\"Marked Price: Rs\", mp)\n",
    "print(\"Discount: Rs\", discount)\n",
    "print(\"Net Amount to Pay: Rs\", net_amount)\n"
   ]
  },
  {
   "cell_type": "code",
   "execution_count": 14,
   "id": "1089af9a-5037-4250-8ff1-649049527641",
   "metadata": {},
   "outputs": [
    {
     "name": "stdin",
     "output_type": "stream",
     "text": [
      "Enter marks in English:  50\n",
      "Enter marks in Math:  85\n",
      "Enter marks in Science:  58\n",
      "Enter marks in Social Studies:  27\n"
     ]
    },
    {
     "name": "stdout",
     "output_type": "stream",
     "text": [
      "Stream Allotted: No stream criteria matched\n"
     ]
    }
   ],
   "source": [
    "\"\"\"Q7. Accept the marks of English, Math and Science,\n",
    "Social Studies Subject and display the stream allotted\n",
    "according to following:\n",
    "\n",
    "All Subjects more than 80 marks — Science Stream\n",
    "\n",
    "English >80 and Math, Science above 50 — Commerce Stream\n",
    "\n",
    "English > 80 and social studies > 80 — Humanities\"\"\"\n",
    "\n",
    "\n",
    "# Program to allot stream based on marks\n",
    "\n",
    "eng = int(input(\"Enter marks in English: \"))\n",
    "math = int(input(\"Enter marks in Math: \"))\n",
    "sci = int(input(\"Enter marks in Science: \"))\n",
    "sst = int(input(\"Enter marks in Social Studies: \"))\n",
    "\n",
    "if eng > 80 and math > 80 and sci > 80 and sst > 80:\n",
    "    stream = \"Science Stream\"\n",
    "elif eng > 80 and math > 50 and sci > 50:\n",
    "    stream = \"Commerce Stream\"\n",
    "elif eng > 80 and sst > 80:\n",
    "    stream = \"Humanities Stream\"\n",
    "else:\n",
    "    stream = \"No stream criteria matched\"\n",
    "\n",
    "print(\"Stream Allotted:\", stream)\n"
   ]
  },
  {
   "cell_type": "code",
   "execution_count": 16,
   "id": "e65a2817-f086-46ef-b5b5-8b848e8777cd",
   "metadata": {},
   "outputs": [
    {
     "name": "stdin",
     "output_type": "stream",
     "text": [
      "Enter a number:  14\n"
     ]
    },
    {
     "name": "stdout",
     "output_type": "stream",
     "text": [
      "Bye\n"
     ]
    }
   ],
   "source": [
    "# Q8. Write a program to display \"Hello\" if a number entered\n",
    "# by user is a multiple of five, otherwise print \"Bye\"?\n",
    "\n",
    "# Program to check multiple of 5\n",
    "\n",
    "num = int(input(\"Enter a number: \"))\n",
    "\n",
    "if num % 5 == 0:\n",
    "    print(\"Hello\")\n",
    "else:\n",
    "    print(\"Bye\")\n"
   ]
  },
  {
   "cell_type": "code",
   "execution_count": 18,
   "id": "1f8dac99-d7ed-4396-b8a7-43217cdc4135",
   "metadata": {},
   "outputs": [
    {
     "name": "stdin",
     "output_type": "stream",
     "text": [
      "Enter a number:  1234\n"
     ]
    },
    {
     "name": "stdout",
     "output_type": "stream",
     "text": [
      "No, the last digit is not divisible by 3\n"
     ]
    }
   ],
   "source": [
    "# Q9. Write a program to check whether the last digit of a number\n",
    "# (entered by user) is divisible by 3 or not?\n",
    "\n",
    "# Program to check if last digit is divisible by 3\n",
    "\n",
    "num = int(input(\"Enter a number: \"))\n",
    "\n",
    "last_digit = num % 10  # Get the last digit\n",
    "\n",
    "if last_digit % 3 == 0:\n",
    "    print(\"Yes, the last digit is divisible by 3\")\n",
    "else:\n",
    "    print(\"No, the last digit is not divisible by 3\")\n"
   ]
  },
  {
   "cell_type": "code",
   "execution_count": 20,
   "id": "53dc19b4-1584-4c02-89f7-02eee39d0d1f",
   "metadata": {},
   "outputs": [
    {
     "name": "stdin",
     "output_type": "stream",
     "text": [
      "Enter a number:  145\n"
     ]
    },
    {
     "name": "stdout",
     "output_type": "stream",
     "text": [
      "Yes, it is a three-digit number\n"
     ]
    }
   ],
   "source": [
    "# Q10. Write a program to check whether a number entered\n",
    "# is three-digit number or not?\n",
    "\n",
    "\n",
    "# Program to check if a number is a three-digit number\n",
    "\n",
    "num = int(input(\"Enter a number: \"))\n",
    "\n",
    "if 100 <= abs(num) <= 999:\n",
    "    print(\"Yes, it is a three-digit number\")\n",
    "else:\n",
    "    print(\"No, it is not a three-digit number\")\n"
   ]
  }
 ],
 "metadata": {
  "kernelspec": {
   "display_name": "Python 3 (ipykernel)",
   "language": "python",
   "name": "python3"
  },
  "language_info": {
   "codemirror_mode": {
    "name": "ipython",
    "version": 3
   },
   "file_extension": ".py",
   "mimetype": "text/x-python",
   "name": "python",
   "nbconvert_exporter": "python",
   "pygments_lexer": "ipython3",
   "version": "3.13.5"
  }
 },
 "nbformat": 4,
 "nbformat_minor": 5
}
